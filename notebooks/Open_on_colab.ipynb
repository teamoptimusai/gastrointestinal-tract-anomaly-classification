{
  "nbformat": 4,
  "nbformat_minor": 0,
  "metadata": {
    "colab": {
      "name": "GI-Netv2-Run-on-Colab.ipynb",
      "provenance": [],
      "collapsed_sections": []
    },
    "kernelspec": {
      "name": "python3",
      "display_name": "Python 3"
    },
    "accelerator": "GPU"
  },
  "cells": [
    {
      "cell_type": "code",
      "metadata": {
        "colab": {
          "base_uri": "https://localhost:8080/"
        },
        "id": "utXUehJKpM9h",
        "outputId": "157c7293-ec1c-4b61-a58d-88ebb35803bc"
      },
      "source": [
        "!git clone [replace with link to the git repository]"
      ],
      "execution_count": 1,
      "outputs": [
        {
          "output_type": "stream",
          "text": [
            "Cloning into 'gastrointestinal-tract-anomaly-classification'...\n",
            "remote: Enumerating objects: 209, done.\u001b[K\n",
            "remote: Counting objects: 100% (209/209), done.\u001b[K\n",
            "remote: Compressing objects: 100% (188/188), done.\u001b[K\n",
            "remote: Total 209 (delta 98), reused 81 (delta 11), pack-reused 0\u001b[K\n",
            "Receiving objects: 100% (209/209), 6.13 MiB | 10.44 MiB/s, done.\n",
            "Resolving deltas: 100% (98/98), done.\n"
          ],
          "name": "stdout"
        }
      ]
    },
    {
      "cell_type": "code",
      "metadata": {
        "colab": {
          "base_uri": "https://localhost:8080/"
        },
        "id": "zWolDRAjKt63",
        "outputId": "8c0c2fc1-7dc0-4944-eaf3-1a38f106f313"
      },
      "source": [
        "%cd gastrointestinal-tract-anomaly-classification"
      ],
      "execution_count": 2,
      "outputs": [
        {
          "output_type": "stream",
          "text": [
            "/content/gastrointestinal-tract-anomaly-classification\n"
          ],
          "name": "stdout"
        }
      ]
    },
    {
      "cell_type": "code",
      "metadata": {
        "id": "2_VxU-49XQO2"
      },
      "source": [
        "!pip install wget"
      ],
      "execution_count": null,
      "outputs": []
    },
    {
      "cell_type": "markdown",
      "metadata": {
        "id": "JC4mt47JpgtM"
      },
      "source": [
        "\n",
        "\n",
        "```\n",
        "usage: make_dataset.py [-h] --dataset {Kvasir_Capsule,Hyper_Kvasir,Kvasir}\n",
        "\n",
        "Download and Prepare Datasets\n",
        "\n",
        "optional arguments:\n",
        "  -h, --help            show this help message and exit\n",
        "  --dataset {Kvasir_Capsule,Hyper_Kvasir,Kvasir}\n",
        "                        Dataset to download\n",
        "```\n",
        "\n"
      ]
    },
    {
      "cell_type": "code",
      "metadata": {
        "id": "a5QYcdMRXIke"
      },
      "source": [
        "!python ./src/data/make_dataset.py --dataset Kvasir"
      ],
      "execution_count": null,
      "outputs": []
    },
    {
      "cell_type": "markdown",
      "metadata": {
        "id": "WZyT2e4H87Ll"
      },
      "source": [
        "\n",
        "\n",
        "```\n",
        "usage: train_model.py [-h] --dataset DATASET --categories CATEGORIES\n",
        "                      [--savedir SAVEDIR] [--interimsavedir INTERIMSAVEDIR]\n",
        "                      [--imgsize IMGSIZE] [--valsplit VALSPLIT]\n",
        "\n",
        "Train the Model with yout dataset\n",
        "\n",
        "optional arguments:\n",
        "  -h, --help            show this help message and exit\n",
        "  --dataset DATASET     relative/absolute dir path to the dataset\n",
        "  --categories CATEGORIES\n",
        "                        number of categories in the dataset\n",
        "  --savedir SAVEDIR     relative/absolute path to the best-model.h5 (end with\n",
        "                        .h5 file format)\n",
        "  --interimsavedir INTERIMSAVEDIR\n",
        "                        relative/absolute path to the interim-model.h5 (end\n",
        "                        with .h5 file format)\n",
        "  --imgsize IMGSIZE     image size to crop the images\n",
        "  --valsplit VALSPLIT   validation split ratio (default set to 0.2)\n",
        "```\n",
        "\n"
      ]
    },
    {
      "cell_type": "code",
      "metadata": {
        "id": "5dgCa4b5uGkP"
      },
      "source": [
        "!python ./src/models/train_model.py --dataset ./data/raw/kvasir-dataset-v2 --categories 8 --savedir ./models/ginetv2-kvasir-model-best.h5 --interimsavedir ./models/ginetv2-kvasir-model.h5"
      ],
      "execution_count": null,
      "outputs": []
    },
    {
      "cell_type": "markdown",
      "metadata": {
        "id": "9VJgCbfvF2w8"
      },
      "source": [
        "\n",
        "\n",
        "```\n",
        "usage: predict_model.py [-h] --modeldir MODELDIR [--imagedir IMAGEDIR]\n",
        "                        [--image IMAGE] [--imgsize IMGSIZE] [--save SAVE]\n",
        "                        [--ncol NCOL] [--scaler SCALER]\n",
        "\n",
        "Predict Categories for your Images with pretrained Model\n",
        "\n",
        "optional arguments:\n",
        "  -h, --help           show this help message and exit\n",
        "  --modeldir MODELDIR  Relative path the h5 model (Required)\n",
        "  --imagedir IMAGEDIR  Relative directory of the Images that need to be\n",
        "                       predicted (Optional)\n",
        "  --image IMAGE        Relative path to the image file (optional)\n",
        "  --imgsize IMGSIZE    Image size used in the model (default 224px)\n",
        "  --save SAVE          Do you want to save the outputs to a '.txt' file?\n",
        "                       (default True\n",
        "  --ncol NCOL          Number of columns in the saved image\n",
        "  --scaler SCALER      Scaling factor for the Prediction image (default 1)\n",
        "```\n",
        "\n"
      ]
    },
    {
      "cell_type": "code",
      "metadata": {
        "id": "06QJtELyun0g"
      },
      "source": [
        "! python ./src/models/predict_model.py --modeldir ./models/ginetv2-kvasir-capsule-model.h5 --imagedir ./data/raw/kvasir_capsule_dataset/Foreign_body --ncol 10 --scaler 0.5"
      ],
      "execution_count": null,
      "outputs": []
    },
    {
      "cell_type": "code",
      "metadata": {
        "id": "VCztWW8EmnR-"
      },
      "source": [
        ""
      ],
      "execution_count": null,
      "outputs": []
    }
  ]
}